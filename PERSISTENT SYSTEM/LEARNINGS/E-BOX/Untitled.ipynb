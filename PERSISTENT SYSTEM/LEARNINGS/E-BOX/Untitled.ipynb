{
 "cells": [
  {
   "cell_type": "code",
   "execution_count": 1,
   "id": "56d59a02",
   "metadata": {},
   "outputs": [],
   "source": [
    "from numpy import * "
   ]
  },
  {
   "cell_type": "code",
   "execution_count": 6,
   "id": "23deaac7",
   "metadata": {},
   "outputs": [],
   "source": [
    "randMat = mat(random.rand(4,3))"
   ]
  },
  {
   "cell_type": "code",
   "execution_count": 7,
   "id": "bfc52ba0",
   "metadata": {},
   "outputs": [],
   "source": [
    "invRandMat = randMat.I"
   ]
  },
  {
   "cell_type": "code",
   "execution_count": 8,
   "id": "787bfcff",
   "metadata": {},
   "outputs": [
    {
     "data": {
      "text/plain": [
       "matrix([[0.31075853, 0.26066812, 0.11060171],\n",
       "        [0.29029319, 0.79210286, 0.58342587],\n",
       "        [0.2265016 , 0.5340667 , 0.86916199],\n",
       "        [0.45147799, 0.28197537, 0.98748997]])"
      ]
     },
     "execution_count": 8,
     "metadata": {},
     "output_type": "execute_result"
    }
   ],
   "source": [
    "randMat"
   ]
  },
  {
   "cell_type": "code",
   "execution_count": 9,
   "id": "e09895f3",
   "metadata": {},
   "outputs": [
    {
     "data": {
      "text/plain": [
       "matrix([[ 2.82787428, -0.30951383, -1.58886305,  1.26461031],\n",
       "        [ 0.0946087 ,  1.40942751,  0.33832309, -1.14109303],\n",
       "        [-1.15193581, -0.42879487,  0.86245773,  0.63591594]])"
      ]
     },
     "execution_count": 9,
     "metadata": {},
     "output_type": "execute_result"
    }
   ],
   "source": [
    "invRandMat"
   ]
  },
  {
   "cell_type": "code",
   "execution_count": null,
   "id": "22890f2d",
   "metadata": {},
   "outputs": [],
   "source": []
  }
 ],
 "metadata": {
  "kernelspec": {
   "display_name": "Python 3 (ipykernel)",
   "language": "python",
   "name": "python3"
  },
  "language_info": {
   "codemirror_mode": {
    "name": "ipython",
    "version": 3
   },
   "file_extension": ".py",
   "mimetype": "text/x-python",
   "name": "python",
   "nbconvert_exporter": "python",
   "pygments_lexer": "ipython3",
   "version": "3.9.7"
  }
 },
 "nbformat": 4,
 "nbformat_minor": 5
}
